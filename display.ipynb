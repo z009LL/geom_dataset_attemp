{
 "cells": [
  {
   "cell_type": "code",
   "execution_count": 7,
   "metadata": {},
   "outputs": [
    {
     "data": {
      "text/plain": [
       "recall (generic function with 1 method)"
      ]
     },
     "metadata": {},
     "output_type": "display_data"
    }
   ],
   "source": [
    "using JSON\n",
    "\n",
    "# Ruta base para los archivos\n",
    "base_path = \"\"\n",
    "\n",
    "# Función para cargar datos JSON desde un archivo\n",
    "function load_json(file_path)\n",
    "    open(file_path, \"r\") do file\n",
    "        return JSON.parse(file)\n",
    "    end\n",
    "end\n",
    "\n",
    "begin\n",
    "\tbase_path = \"C:\\\\Users\\\\Felipe\\\\Documents\\\\003_EXPERIMENTAL_003\\\\ARC\\\\\"\n",
    "\ttraining_challenges = load_json(base_path * \"arc-agi_training_challenges.json\")\n",
    "\ttraining_solutions = load_json(base_path * \"arc-agi_training_solutions.json\")\n",
    "\t# evaluation_challenges = load_json(base_path * \"arc-agi_evaluation_challenges.json\")\n",
    "\t# evaluation_solutions = load_json(base_path * \"arc-agi_evaluation_solutions.json\")\n",
    "end\n",
    "\n",
    "function recall(i, j)\n",
    "    k = sort(collect(keys(training_challenges)))\n",
    "    t = k[i] \n",
    "    task = training_challenges[t]\n",
    "    println(\"Set #\", i, \", \", t)\n",
    "    println(\"Input:\")\n",
    "    display(task[\"train\"][j][\"input\"])  # Ajustar el índice para Julia\n",
    "    println(\"Output:\")\n",
    "    display(task[\"train\"][j][\"output\"]) # Ajustar el índice para Julia\n",
    "end\n",
    "\n",
    "# recall(5, 1)\n"
   ]
  },
  {
   "cell_type": "code",
   "execution_count": null,
   "metadata": {},
   "outputs": [],
   "source": []
  },
  {
   "cell_type": "code",
   "execution_count": 10,
   "metadata": {},
   "outputs": [
    {
     "name": "stdout",
     "output_type": "stream",
     "text": [
      "Tipo de vector_of_arrays: Vector{Any}\n",
      "Tipo de a: Matrix{Any}\n"
     ]
    }
   ],
   "source": [
    "vector_of_arrays = training_challenges[sort(collect(keys(training_challenges)))[5]][\"train\"][1][\"input\"]\n",
    "\n",
    "# Obtener a\n",
    "a = reduce(vcat, map(row -> reshape(row, 1, :), vector_of_arrays))\n",
    "\n",
    "# Verificar tipos\n",
    "println(\"Tipo de vector_of_arrays: \", typeof(vector_of_arrays))\n",
    "println(\"Tipo de a: \", typeof(a))\n",
    "\n",
    "#training_solutions[\"a64e4611\"][\"train\"][1][\"input\"]"
   ]
  },
  {
   "cell_type": "code",
   "execution_count": null,
   "metadata": {},
   "outputs": [],
   "source": [
    "rows, cols = size(a)\n",
    "for i in 1:rows\n",
    "    for j in 1:cols\n",
    "        println(\"row \", i, \" || and col \", j)\n",
    "    end\n",
    "end"
   ]
  },
  {
   "cell_type": "code",
   "execution_count": 1,
   "metadata": {},
   "outputs": [
    {
     "ename": "UndefVarError",
     "evalue": "UndefVarError: `a` not defined",
     "output_type": "error",
     "traceback": [
      "UndefVarError: `a` not defined\n",
      "\n",
      "Stacktrace:\n",
      " [1] top-level scope\n",
      "   @ c:\\Users\\Felipe\\Documents\\003_EXPERIMENTAL_003\\ARC\\JULIA\\display.ipynb:1"
     ]
    }
   ],
   "source": [
    "rows, cols = size(a)\n",
    "ceros = zeros(Float64, rows*3, cols*3)\n",
    "println(size(ceros))\n",
    "for i in 1:rows, j in 1:cols\n",
    "\n",
    "end"
   ]
  },
  {
   "cell_type": "code",
   "execution_count": 23,
   "metadata": {},
   "outputs": [],
   "source": [
    "struct MatrixAnidada{T<:AbstractMatrix}\n",
    "    mat1::T\n",
    "    mat2::T \n",
    "    mat3::T\n",
    "end"
   ]
  },
  {
   "cell_type": "code",
   "execution_count": null,
   "metadata": {},
   "outputs": [],
   "source": [
    "matrix_of_matrices = Array{MatrixTriple{Matrix{Float64}}, 2}(undef, rows, cols)"
   ]
  },
  {
   "cell_type": "code",
   "execution_count": null,
   "metadata": {},
   "outputs": [],
   "source": [
    "for i in 1:rows, j in 1:cols\n",
    "        matrix_of_matrices[i, j] = MatrixTriple(\n",
    "            zeros(Float64, 3, 3),  \n",
    "            zeros(Float64, 5, 5), \n",
    "            zeros(Float64, 7, 7)  \n",
    "        )\n",
    "    end\n",
    "end"
   ]
  },
  {
   "cell_type": "code",
   "execution_count": 29,
   "metadata": {},
   "outputs": [
    {
     "data": {
      "text/plain": [
       "create_submatrix (generic function with 1 method)"
      ]
     },
     "metadata": {},
     "output_type": "display_data"
    }
   ],
   "source": [
    "function create_submatrix(a, i, j, submatrixSize)\n",
    "    using PaddedViews\n",
    "    rows, cols = size(a)\n",
    "    submatrix = fill(0, submatrixSize, submatrixSize)\n",
    "    reach = (submatrixSize - 1)/2\n",
    "    enum = -reach:reach\n",
    "    padded_A = PaddedView(-1, A, (1:reach*2, 1:reach*2), (2:, 2:4))\n",
    "    for si in enum, sj in enum\n",
    "            ri = i + si\n",
    "            cj = j + sj\n",
    "            if ri >= 1 && ri <= rows && cj >= 1 && cj <= cols\n",
    "                for \n",
    "                submatrix[di + 2, dj + 2] = a[ri, cj]\n",
    "                elseif\n",
    "                println(\"row $i and col $j problem\")\n",
    "        end\n",
    "    end\n",
    "    \n",
    "    return submatrix\n",
    "end"
   ]
  },
  {
   "cell_type": "code",
   "execution_count": null,
   "metadata": {},
   "outputs": [],
   "source": []
  },
  {
   "cell_type": "code",
   "execution_count": null,
   "metadata": {},
   "outputs": [],
   "source": [
    "import Pkg; Pkg.add(\"PaddedViews\")"
   ]
  },
  {
   "cell_type": "code",
   "execution_count": 15,
   "metadata": {},
   "outputs": [
    {
     "data": {
      "text/plain": [
       "5×5 PaddedView(-1, OffsetArray(::Matrix{Int64}, 2:4, 2:4), (1:5, 1:5)) with eltype Int64 with indices 1:5×1:5:\n",
       " -1  -1  -1  -1  -1\n",
       " -1   1   2   3  -1\n",
       " -1   4   5   6  -1\n",
       " -1   7   8   9  -1\n",
       " -1  -1  -1  -1  -1"
      ]
     },
     "metadata": {},
     "output_type": "display_data"
    }
   ],
   "source": [
    "using PaddedViews\n",
    "\n",
    "# Example matrix\n",
    "A = [1 2 3; 4 5 6; 7 8 9]\n",
    "\n",
    "# Symmetrically pad the matrix with a fill value of -1\n",
    "padded_A = PaddedView(-1, A, (1:5, 1:5), (2:4, 2:4))"
   ]
  },
  {
   "cell_type": "code",
   "execution_count": 18,
   "metadata": {},
   "outputs": [
    {
     "data": {
      "text/plain": [
       "5×5 Matrix{Int64}:\n",
       " 1  1  2  3  3\n",
       " 1  1  2  3  3\n",
       " 4  4  5  6  6\n",
       " 7  7  8  9  9\n",
       " 7  7  8  9  9"
      ]
     },
     "metadata": {},
     "output_type": "display_data"
    }
   ],
   "source": [
    "function symmetric_pad(A, pad_size)\n",
    "    m, n = size(A)\n",
    "    padded_A = similar(A, m + 2*pad_size, n + 2*pad_size)\n",
    "    \n",
    "    for i in 1:m+2*pad_size, j in 1:n+2*pad_size\n",
    "        padded_A[i,j] = A[clamp(i-pad_size,1,m), clamp(j-pad_size,1,n)]\n",
    "    end\n",
    "    \n",
    "    return padded_A\n",
    "end\n",
    "\n",
    "# Example usage\n",
    "A = [1 2 3; 4 5 6; 7 8 9]\n",
    "padded_A = symmetric_pad(A, 1)"
   ]
  },
  {
   "cell_type": "code",
   "execution_count": 43,
   "metadata": {},
   "outputs": [
    {
     "data": {
      "text/plain": [
       "7×7 Matrix{Int64}:\n",
       " -1  -1  -1  -1  -1  -1  -1\n",
       " -1  -1  -1  -1  -1  -1  -1\n",
       " -1  -1   1   2   3  -1  -1\n",
       " -1  -1   4   5   6  -1  -1\n",
       " -1  -1   7   8   9  -1  -1\n",
       " -1  -1  -1  -1  -1  -1  -1\n",
       " -1  -1  -1  -1  -1  -1  -1"
      ]
     },
     "metadata": {},
     "output_type": "display_data"
    }
   ],
   "source": [
    "A = [1 2 3; 4 5 6; 7 8 9]\n",
    "submatrixSize=5\n",
    "m,n=size(A)\n",
    "pad = div(submatrixSize - 1, 2)  #pad is integer, fill() need that\n",
    "paddedMatrix = fill(-1,m+pad*2,n+pad*2)\n",
    "for i in 1:m, j in 1:n\n",
    "    paddedMatrix[i+pad,j+pad] = A[i,j]\n",
    "end\n",
    "display(paddedMatrix)\n",
    "\n",
    "struct matrixTiles{T<:AbstractMatrix}\n",
    "    matrices::Vector{T}\n",
    "end\n",
    "\n",
    "for i in 1:m+pad, j in 1:n+pad\n",
    "    submatrix = "
   ]
  },
  {
   "cell_type": "code",
   "execution_count": 54,
   "metadata": {},
   "outputs": [
    {
     "ename": "MethodError",
     "evalue": "MethodError: no method matching size(::MatrixAnidada{Matrix{Int64}})\n\nClosest candidates are:\n  size(!Matched::BitVector)\n   @ Base bitarray.jl:104\n  size(!Matched::BitVector, !Matched::Integer)\n   @ Base bitarray.jl:107\n  size(!Matched::Base.ExceptionStack)\n   @ Base errorshow.jl:1018\n  ...\n",
     "output_type": "error",
     "traceback": [
      "MethodError: no method matching size(::MatrixAnidada{Matrix{Int64}})\n",
      "\n",
      "Closest candidates are:\n",
      "  size(!Matched::BitVector)\n",
      "   @ Base bitarray.jl:104\n",
      "  size(!Matched::BitVector, !Matched::Integer)\n",
      "   @ Base bitarray.jl:107\n",
      "  size(!Matched::Base.ExceptionStack)\n",
      "   @ Base errorshow.jl:1018\n",
      "  ...\n",
      "\n",
      "\n",
      "Stacktrace:\n",
      " [1] top-level scope\n",
      "   @ c:\\Users\\Felipe\\Documents\\003_EXPERIMENTAL_003\\ARC\\JULIA\\display.ipynb:18"
     ]
    }
   ],
   "source": [
    "struct MatrixAnidada{T<:AbstractMatrix}\n",
    "    matrices::Vector{T}\n",
    "end\n",
    "\n",
    "# Example usage:\n",
    "\n",
    "# Define some matrices of different sizes\n",
    "mat1 = [1 2; 3 4]\n",
    "mat2 = [5 6 7; 8 9 10]\n",
    "mat3 = [11 12; 13 14]\n",
    "mat4 = [15 16 17 18; 19 20 21 22]\n",
    "mat5 = [23 24 25; 26 27 28]\n",
    "\n",
    "# Create instances of MatrixAnidada with different sets of matrices\n",
    "matrix_set1 = MatrixAnidada([mat1, mat2, mat3])\n",
    "matrix_set2 = MatrixAnidada([mat4, mat5, mat1])\n",
    "\n",
    "println(size(matrix_set1))\n",
    "println(matrix_set2)"
   ]
  },
  {
   "cell_type": "code",
   "execution_count": 48,
   "metadata": {},
   "outputs": [
    {
     "name": "stdout",
     "output_type": "stream",
     "text": [
      "[1 2; 3 4]\n",
      "[5 6; 7 8]\n",
      "[9 10; 11 12]\n"
     ]
    }
   ],
   "source": [
    "struct MatrixAnidada2{T<:AbstractMatrix}\n",
    "    mat1::T\n",
    "    mat2::T \n",
    "    mat3::T\n",
    "end\n",
    "\n",
    "# Example usage:\n",
    "mat1 = [1 2; 3 4]\n",
    "mat2 = [5 6; 7 8]\n",
    "mat3 = [9 10; 11 12]\n",
    "fixed_matrices = MatrixAnidada2(mat1, mat2, mat3)\n",
    "\n",
    "println(fixed_matrices.mat1)\n",
    "println(fixed_matrices.mat2)\n",
    "println(fixed_matrices.mat3)\n"
   ]
  },
  {
   "cell_type": "code",
   "execution_count": 50,
   "metadata": {},
   "outputs": [
    {
     "name": "stdout",
     "output_type": "stream",
     "text": [
      "([1 2; 3 4], [5 6 7; 8 9 10], [15 16 17 18; 19 20 21 22])\n",
      "[[15 16 17 18; 19 20 21 22], [23 24 25; 26 27 28]]\n"
     ]
    }
   ],
   "source": [
    "struct MatrixAnidada3{T<:AbstractMatrix}\n",
    "    fixed_matrices::NTuple{3, T}\n",
    "    variable_matrices::Vector{T}\n",
    "end\n",
    "mat1 = [1 2; 3 4]\n",
    "mat2 = [5 6 7; 8 9 10]\n",
    "mat3 = [11 12; 13 14]\n",
    "mat4 = [15 16 17 18; 19 20 21 22]\n",
    "mat5 = [23 24 25; 26 27 28]\n",
    "# Example usage:\n",
    "fixed_matrices = (mat1, mat2, mat4)\n",
    "variable_matrices = [mat4, mat5]\n",
    "mixed_matrices = MatrixAnidada3(fixed_matrices, variable_matrices)\n",
    "\n",
    "println(mixed_matrices.fixed_matrices)\n",
    "println(mixed_matrices.variable_matrices)\n"
   ]
  },
  {
   "cell_type": "code",
   "execution_count": 56,
   "metadata": {},
   "outputs": [],
   "source": [
    "struct MatrixAnidada4{T<:AbstractMatrix}\n",
    "    matrices::Array{T, 3}\n",
    "end\n",
    "\n",
    "# Custom indexing method\n",
    "function Base.getindex(ma::MatrixAnidada4, i::Int, j::Int, k::Int)\n",
    "    return ma.matrices[i, j, k]\n",
    "end\n",
    "\n",
    "# Custom size method\n",
    "function Base.size(ma::MatrixAnidada4)\n",
    "    return size(ma.matrices)\n",
    "end\n",
    "\n",
    "# Allow iteration\n",
    "Base.iterate(ma::MatrixAnidada4) = iterate(ma.matrices)\n",
    "Base.iterate(ma::MatrixAnidada4, state) = iterate(ma.matrices, state)\n"
   ]
  },
  {
   "cell_type": "code",
   "execution_count": 63,
   "metadata": {},
   "outputs": [
    {
     "data": {
      "text/plain": [
       "3×3 Matrix{Any}:\n",
       " 1  2.5  \"hello\"\n",
       " 4  5.7  \"world\"\n",
       " 6  7.8  \"[1 2; 3 4]\""
      ]
     },
     "metadata": {},
     "output_type": "display_data"
    }
   ],
   "source": [
    "mat1 = [1 2; 3 4]\n",
    "matrix = [1 2.5 \"hello\"; 4 5.7 \"world\"; 6 7.8 \"$mat1\"]"
   ]
  },
  {
   "cell_type": "code",
   "execution_count": null,
   "metadata": {},
   "outputs": [],
   "source": []
  },
  {
   "cell_type": "code",
   "execution_count": null,
   "metadata": {},
   "outputs": [],
   "source": []
  },
  {
   "cell_type": "code",
   "execution_count": null,
   "metadata": {},
   "outputs": [],
   "source": []
  },
  {
   "cell_type": "code",
   "execution_count": null,
   "metadata": {},
   "outputs": [],
   "source": [
    "using Lux, Random\n",
    "\n",
    "function conv_block(in_channels, out_channels)\n",
    "    return Chain(\n",
    "        Conv((3, 3), in_channels => out_channels, pad=(1, 1), stride=(1, 1)),\n",
    "        BatchNorm(out_channels),\n",
    "        x -> relu.(x),\n",
    "        Conv((3, 3), out_channels => out_channels, pad=(1, 1), stride=(1, 1)),\n",
    "        BatchNorm(out_channels),\n",
    "        x -> relu.(x)\n",
    "    )\n",
    "end\n",
    "\n",
    "function unet(in_channels, out_channels)\n",
    "    # Encoder (downsampling)\n",
    "    enc1 = conv_block(in_channels, 64)\n",
    "    enc2 = Chain(MaxPool((2, 2)), conv_block(64, 128))\n",
    "    enc3 = Chain(MaxPool((2, 2)), conv_block(128, 256))\n",
    "    enc4 = Chain(MaxPool((2, 2)), conv_block(256, 512))\n",
    "\n",
    "    # Bridge\n",
    "    bridge = Chain(MaxPool((2, 2)), conv_block(512, 1024))\n",
    "\n",
    "    # Decoder (upsampling)\n",
    "    dec4 = Chain(ConvTranspose((2, 2), 1024 => 512, stride=(2, 2)), conv_block(1024, 512))\n",
    "    dec3 = Chain(ConvTranspose((2, 2), 512 => 256, stride=(2, 2)), conv_block(512, 256))\n",
    "    dec2 = Chain(ConvTranspose((2, 2), 256 => 128, stride=(2, 2)), conv_block(256, 128))\n",
    "    dec1 = Chain(ConvTranspose((2, 2), 128 => 64, stride=(2, 2)), conv_block(128, 64))\n",
    "\n",
    "    # Output layer\n",
    "    out = Conv((1, 1), 64 => out_channels)\n",
    "\n",
    "    function forward(x, ps, st)\n",
    "        # Encoder\n",
    "        e1 = enc1(x, ps.enc1, st.enc1)\n",
    "        e2 = enc2(e1, ps.enc2, st.enc2)\n",
    "        e3 = enc3(e2, ps.enc3, st.enc3)\n",
    "        e4 = enc4(e3, ps.enc4, st.enc4)\n",
    "\n",
    "        # Bridge\n",
    "        b = bridge(e4, ps.bridge, st.bridge)\n",
    "\n",
    "        # Decoder with skip connections\n",
    "        d4 = dec4(cat(b, e4, dims=3), ps.dec4, st.dec4)\n",
    "        d3 = dec3(cat(d4, e3, dims=3), ps.dec3, st.dec3)\n",
    "        d2 = dec2(cat(d3, e2, dims=3), ps.dec2, st.dec2)\n",
    "        d1 = dec1(cat(d2, e1, dims=3), ps.dec1, st.dec1)\n",
    "\n",
    "        # Output\n",
    "        return out(d1, ps.out, st.out)\n",
    "    end\n",
    "\n",
    "    return Chain(forward)\n",
    "end\n",
    "\n",
    "# Crear el modelo\n",
    "rng = Random.default_rng()\n",
    "model = unet(3, 1)  # 3 canales de entrada, 1 canal de salida\n",
    "\n",
    "# Inicializar parámetros y estados\n",
    "dummy_input = randn(rng, 256, 256, 3, 1)  # Entrada de ejemplo: 256x256 imagen RGB\n",
    "ps, st = Lux.setup(rng, model)\n",
    "\n",
    "# Realizar una pasada hacia adelante\n",
    "y, _ = model(dummy_input, ps, st)\n",
    "\n",
    "println(\"Forma de la salida: \", size(y))"
   ]
  }
 ],
 "metadata": {
  "kernelspec": {
   "display_name": "Julia 1.10.4",
   "language": "julia",
   "name": "julia-1.10"
  },
  "language_info": {
   "file_extension": ".jl",
   "mimetype": "application/julia",
   "name": "julia",
   "version": "1.10.4"
  }
 },
 "nbformat": 4,
 "nbformat_minor": 2
}
